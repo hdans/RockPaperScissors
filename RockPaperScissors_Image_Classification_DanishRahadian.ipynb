{
  "cells": [
    {
      "cell_type": "markdown",
      "metadata": {
        "id": "3jcZQVnmtTQ0"
      },
      "source": [
        "# Danish Rahadian Mirza Effendi"
      ]
    },
    {
      "cell_type": "markdown",
      "metadata": {
        "id": "QqQiYqborIOe"
      },
      "source": [
        "## Rock, Paper, Scissors Image Classification"
      ]
    },
    {
      "cell_type": "markdown",
      "metadata": {
        "id": "NH4cLS24rIOg"
      },
      "source": [
        "### Importing Libraries"
      ]
    },
    {
      "cell_type": "code",
      "execution_count": 2,
      "metadata": {
        "id": "m64Q8OQCrIOh"
      },
      "outputs": [
        {
          "name": "stdout",
          "output_type": "stream",
          "text": [
            "WARNING:tensorflow:From c:\\Users\\danis\\AppData\\Local\\Programs\\Python\\Python311\\Lib\\site-packages\\keras\\src\\losses.py:2976: The name tf.losses.sparse_softmax_cross_entropy is deprecated. Please use tf.compat.v1.losses.sparse_softmax_cross_entropy instead.\n",
            "\n"
          ]
        }
      ],
      "source": [
        "import os\n",
        "import glob\n",
        "import zipfile\n",
        "\n",
        "import numpy as np\n",
        "import pandas as pd\n",
        "\n",
        "import matplotlib.pyplot as plt\n",
        "import matplotlib.image as mpig\n",
        "import seaborn as sns\n",
        "%matplotlib inline\n",
        "\n",
        "from sklearn.model_selection import train_test_split\n",
        "\n",
        "import tensorflow as tf\n",
        "from tensorflow.keras.optimizers import RMSprop\n",
        "from tensorflow.keras.preprocessing.image import ImageDataGenerator, load_img, img_to_array"
      ]
    },
    {
      "cell_type": "markdown",
      "metadata": {},
      "source": [
        "### Download Dataset"
      ]
    },
    {
      "cell_type": "code",
      "execution_count": 3,
      "metadata": {},
      "outputs": [],
      "source": [
        "# !wget --no-check-certificate \\\n",
        "#   https://github.com/dicodingacademy/assets/releases/download/release/rockpaperscissors.zip"
      ]
    },
    {
      "cell_type": "markdown",
      "metadata": {},
      "source": [
        "### Extract Dataset"
      ]
    },
    {
      "cell_type": "code",
      "execution_count": 4,
      "metadata": {},
      "outputs": [],
      "source": [
        "# dir = \"dataset/rockpaperscissors.zip\"\n",
        "# zip = zipfile.ZipFile(dir, 'r')\n",
        "# zip.extractall(\"dataset\")\n",
        "# zip.close()"
      ]
    },
    {
      "cell_type": "markdown",
      "metadata": {
        "id": "JxAHGStKrIOk"
      },
      "source": [
        "### Making Base Diractory"
      ]
    },
    {
      "cell_type": "code",
      "execution_count": 5,
      "metadata": {
        "id": "dgHSC0rgrIOk"
      },
      "outputs": [],
      "source": [
        "base_dir = \"dataset/rockpaperscissors/rps-cv-images\""
      ]
    },
    {
      "cell_type": "markdown",
      "metadata": {
        "id": "70BrDwU-rIOl"
      },
      "source": [
        "### Check Diractory"
      ]
    },
    {
      "cell_type": "code",
      "execution_count": 6,
      "metadata": {
        "colab": {
          "base_uri": "https://localhost:8080/"
        },
        "id": "BKXgb-c8rIOl",
        "outputId": "4a6a97fd-97fe-48d7-9939-7e7eeaf80ff3"
      },
      "outputs": [
        {
          "data": {
            "text/plain": [
              "['paper', 'README_rpc-cv-images.txt', 'rock', 'scissors']"
            ]
          },
          "execution_count": 6,
          "metadata": {},
          "output_type": "execute_result"
        }
      ],
      "source": [
        "os.listdir(base_dir)"
      ]
    },
    {
      "cell_type": "markdown",
      "metadata": {
        "id": "PzYLOVTurIOl"
      },
      "source": [
        "### Check Dataset"
      ]
    },
    {
      "cell_type": "code",
      "execution_count": 7,
      "metadata": {
        "colab": {
          "base_uri": "https://localhost:8080/"
        },
        "id": "2CSuJkbdrIOl",
        "outputId": "a684594e-4c65-4b2d-9cbe-6095f2a53b5c"
      },
      "outputs": [
        {
          "name": "stdout",
          "output_type": "stream",
          "text": [
            "Rock images: 726\n",
            "Paper images: 712\n",
            "Scissors images: 750\n"
          ]
        }
      ],
      "source": [
        "rock_dir = os.path.join(base_dir, \"rock\")\n",
        "paper_dir = os.path.join(base_dir, \"paper\")\n",
        "scissors_dir = os.path.join(base_dir, \"scissors\")\n",
        "\n",
        "print(f\"Rock images: {len(os.listdir(rock_dir))}\")\n",
        "print(f\"Paper images: {len(os.listdir(paper_dir))}\")\n",
        "print(f\"Scissors images: {len(os.listdir(scissors_dir))}\")\n"
      ]
    },
    {
      "cell_type": "markdown",
      "metadata": {
        "id": "WrHusN7crIOm"
      },
      "source": [
        "### Data Augmentation"
      ]
    },
    {
      "cell_type": "code",
      "execution_count": 8,
      "metadata": {
        "id": "dcRwgcUJrIOm"
      },
      "outputs": [],
      "source": [
        "generator = ImageDataGenerator(\n",
        "    rescale = 1/255,\n",
        "    rotation_range = 20,\n",
        "    horizontal_flip = True,\n",
        "    shear_range = 0.2,\n",
        "    fill_mode = \"wrap\",\n",
        "    validation_split = 0.4\n",
        ")"
      ]
    },
    {
      "cell_type": "markdown",
      "metadata": {
        "id": "7It2tfswrIOm"
      },
      "source": [
        "### Separate Train and Test dataset"
      ]
    },
    {
      "cell_type": "code",
      "execution_count": 9,
      "metadata": {
        "colab": {
          "base_uri": "https://localhost:8080/"
        },
        "id": "thRpoyM2rIOm",
        "outputId": "c1d20078-0fa9-469f-bc1a-49cc659bd9eb"
      },
      "outputs": [
        {
          "name": "stdout",
          "output_type": "stream",
          "text": [
            "Found 1314 images belonging to 3 classes.\n"
          ]
        }
      ],
      "source": [
        "train_gen = generator.flow_from_directory(\n",
        "    base_dir,\n",
        "    target_size =(100,150),\n",
        "    batch_size = 32,\n",
        "    class_mode = \"categorical\",\n",
        "    subset = \"training\"\n",
        ")"
      ]
    },
    {
      "cell_type": "code",
      "execution_count": 10,
      "metadata": {
        "colab": {
          "base_uri": "https://localhost:8080/"
        },
        "id": "M4P9A8GurIOn",
        "outputId": "7479ef00-acdc-4663-af95-3ea3bc78e90e"
      },
      "outputs": [
        {
          "name": "stdout",
          "output_type": "stream",
          "text": [
            "Found 874 images belonging to 3 classes.\n"
          ]
        }
      ],
      "source": [
        "val_gen = generator.flow_from_directory(\n",
        "    base_dir,\n",
        "    target_size = (100,150),\n",
        "    batch_size = 32,\n",
        "    class_mode = \"categorical\",\n",
        "    subset = \"validation\"\n",
        ")"
      ]
    },
    {
      "cell_type": "markdown",
      "metadata": {
        "id": "xB2VGWq6rIOn"
      },
      "source": [
        "### Build the Neural Networks"
      ]
    },
    {
      "cell_type": "code",
      "execution_count": 11,
      "metadata": {
        "id": "w5gyksdGrIOn"
      },
      "outputs": [
        {
          "name": "stdout",
          "output_type": "stream",
          "text": [
            "WARNING:tensorflow:From c:\\Users\\danis\\AppData\\Local\\Programs\\Python\\Python311\\Lib\\site-packages\\keras\\src\\backend.py:873: The name tf.get_default_graph is deprecated. Please use tf.compat.v1.get_default_graph instead.\n",
            "\n"
          ]
        }
      ],
      "source": [
        "model = tf.keras.models.Sequential()\n",
        "layer = tf.keras.layers"
      ]
    },
    {
      "cell_type": "code",
      "execution_count": 12,
      "metadata": {
        "id": "j9sMW_JzrIOo"
      },
      "outputs": [
        {
          "name": "stdout",
          "output_type": "stream",
          "text": [
            "WARNING:tensorflow:From c:\\Users\\danis\\AppData\\Local\\Programs\\Python\\Python311\\Lib\\site-packages\\keras\\src\\layers\\pooling\\max_pooling2d.py:161: The name tf.nn.max_pool is deprecated. Please use tf.nn.max_pool2d instead.\n",
            "\n"
          ]
        }
      ],
      "source": [
        "# First Layer\n",
        "model.add(layer.Conv2D(32, (3,3), activation=\"relu\", input_shape=(100,150,3)))\n",
        "model.add(layer.MaxPooling2D(2,2))"
      ]
    },
    {
      "cell_type": "code",
      "execution_count": null,
      "metadata": {},
      "outputs": [],
      "source": []
    },
    {
      "cell_type": "code",
      "execution_count": 13,
      "metadata": {
        "id": "BcMSSUIurIOo"
      },
      "outputs": [],
      "source": [
        "# Second Layer\n",
        "model.add(layer.Conv2D(64, (3,3), activation=\"relu\"))\n",
        "model.add(layer.MaxPool2D(2,2))"
      ]
    },
    {
      "cell_type": "code",
      "execution_count": 14,
      "metadata": {
        "id": "H02E1ZufrIOo"
      },
      "outputs": [],
      "source": [
        "# Third Layer\n",
        "model.add(layer.Conv2D(128, (3,3), activation=\"relu\"))\n",
        "model.add(layer.MaxPool2D(2,2))"
      ]
    },
    {
      "cell_type": "code",
      "execution_count": 15,
      "metadata": {
        "id": "tB5EOWZVrIOo"
      },
      "outputs": [],
      "source": [
        "# Fourth Layer\n",
        "model.add(layer.Conv2D(128, (3,3), activation=\"relu\"))\n",
        "model.add(layer.MaxPool2D(2,2))"
      ]
    },
    {
      "cell_type": "code",
      "execution_count": 16,
      "metadata": {
        "id": "ZLvGAAPurIOo"
      },
      "outputs": [],
      "source": [
        "# Flattening\n",
        "model.add(layer.Flatten())"
      ]
    },
    {
      "cell_type": "code",
      "execution_count": 17,
      "metadata": {
        "id": "p25fcRMmrIOp"
      },
      "outputs": [],
      "source": [
        "# Full Conection\n",
        "model.add(layer.Dense(512, activation=\"relu\"))"
      ]
    },
    {
      "cell_type": "code",
      "execution_count": 18,
      "metadata": {
        "id": "dIVQTDoPrIOp"
      },
      "outputs": [],
      "source": [
        "# Output Layer\n",
        "model.add(layer.Dense(3, activation=\"softmax\"))"
      ]
    },
    {
      "cell_type": "code",
      "execution_count": 19,
      "metadata": {
        "colab": {
          "base_uri": "https://localhost:8080/"
        },
        "id": "YdUexnsErIOp",
        "outputId": "9969aecf-e66a-411c-c23b-438323aabcff"
      },
      "outputs": [
        {
          "name": "stdout",
          "output_type": "stream",
          "text": [
            "Model: \"sequential\"\n",
            "_________________________________________________________________\n",
            " Layer (type)                Output Shape              Param #   \n",
            "=================================================================\n",
            " conv2d (Conv2D)             (None, 98, 148, 32)       896       \n",
            "                                                                 \n",
            " max_pooling2d (MaxPooling2  (None, 49, 74, 32)        0         \n",
            " D)                                                              \n",
            "                                                                 \n",
            " conv2d_1 (Conv2D)           (None, 47, 72, 64)        18496     \n",
            "                                                                 \n",
            " max_pooling2d_1 (MaxPoolin  (None, 23, 36, 64)        0         \n",
            " g2D)                                                            \n",
            "                                                                 \n",
            " conv2d_2 (Conv2D)           (None, 21, 34, 128)       73856     \n",
            "                                                                 \n",
            " max_pooling2d_2 (MaxPoolin  (None, 10, 17, 128)       0         \n",
            " g2D)                                                            \n",
            "                                                                 \n",
            " conv2d_3 (Conv2D)           (None, 8, 15, 128)        147584    \n",
            "                                                                 \n",
            " max_pooling2d_3 (MaxPoolin  (None, 4, 7, 128)         0         \n",
            " g2D)                                                            \n",
            "                                                                 \n",
            " flatten (Flatten)           (None, 3584)              0         \n",
            "                                                                 \n",
            " dense (Dense)               (None, 512)               1835520   \n",
            "                                                                 \n",
            " dense_1 (Dense)             (None, 3)                 1539      \n",
            "                                                                 \n",
            "=================================================================\n",
            "Total params: 2077891 (7.93 MB)\n",
            "Trainable params: 2077891 (7.93 MB)\n",
            "Non-trainable params: 0 (0.00 Byte)\n",
            "_________________________________________________________________\n"
          ]
        }
      ],
      "source": [
        "# Model Summary\n",
        "model.summary()"
      ]
    },
    {
      "cell_type": "markdown",
      "metadata": {
        "id": "Lghg3p0WrIOp"
      },
      "source": [
        "### Compiling Neural Network"
      ]
    },
    {
      "cell_type": "code",
      "execution_count": 20,
      "metadata": {
        "id": "5iNkjGYvrIOq"
      },
      "outputs": [],
      "source": [
        "model.compile(loss=\"categorical_crossentropy\", optimizer=RMSprop(), metrics=[\"accuracy\"])"
      ]
    },
    {
      "cell_type": "markdown",
      "metadata": {
        "id": "nq4-jmk4rIOq"
      },
      "source": [
        "### Train Neural Network"
      ]
    },
    {
      "cell_type": "code",
      "execution_count": 21,
      "metadata": {
        "colab": {
          "base_uri": "https://localhost:8080/"
        },
        "id": "UDXxely8rIOq",
        "outputId": "88817c7c-fbd9-4d1f-b101-b1582d695b19"
      },
      "outputs": [
        {
          "name": "stdout",
          "output_type": "stream",
          "text": [
            "Epoch 1/25\n",
            "WARNING:tensorflow:From c:\\Users\\danis\\AppData\\Local\\Programs\\Python\\Python311\\Lib\\site-packages\\keras\\src\\utils\\tf_utils.py:492: The name tf.ragged.RaggedTensorValue is deprecated. Please use tf.compat.v1.ragged.RaggedTensorValue instead.\n",
            "\n",
            "WARNING:tensorflow:From c:\\Users\\danis\\AppData\\Local\\Programs\\Python\\Python311\\Lib\\site-packages\\keras\\src\\engine\\base_layer_utils.py:384: The name tf.executing_eagerly_outside_functions is deprecated. Please use tf.compat.v1.executing_eagerly_outside_functions instead.\n",
            "\n",
            "25/25 - 13s - loss: 1.1476 - accuracy: 0.4143 - val_loss: 1.0010 - val_accuracy: 0.6313 - 13s/epoch - 537ms/step\n",
            "Epoch 2/25\n",
            "25/25 - 8s - loss: 0.9499 - accuracy: 0.5987 - val_loss: 0.5116 - val_accuracy: 0.9000 - 8s/epoch - 309ms/step\n",
            "Epoch 3/25\n",
            "25/25 - 10s - loss: 0.5292 - accuracy: 0.8138 - val_loss: 0.2931 - val_accuracy: 0.8875 - 10s/epoch - 401ms/step\n",
            "Epoch 4/25\n",
            "25/25 - 9s - loss: 0.3649 - accuracy: 0.8625 - val_loss: 0.1823 - val_accuracy: 0.9375 - 9s/epoch - 357ms/step\n",
            "Epoch 5/25\n",
            "25/25 - 11s - loss: 0.3203 - accuracy: 0.8775 - val_loss: 0.2363 - val_accuracy: 0.9125 - 11s/epoch - 422ms/step\n",
            "Epoch 6/25\n",
            "25/25 - 12s - loss: 0.2777 - accuracy: 0.9025 - val_loss: 0.2706 - val_accuracy: 0.9187 - 12s/epoch - 460ms/step\n",
            "Epoch 7/25\n",
            "25/25 - 12s - loss: 0.2418 - accuracy: 0.9175 - val_loss: 0.2562 - val_accuracy: 0.8938 - 12s/epoch - 479ms/step\n",
            "Epoch 8/25\n",
            "25/25 - 11s - loss: 0.1856 - accuracy: 0.9362 - val_loss: 0.3302 - val_accuracy: 0.8813 - 11s/epoch - 443ms/step\n",
            "Epoch 9/25\n",
            "25/25 - 9s - loss: 0.1598 - accuracy: 0.9337 - val_loss: 0.1623 - val_accuracy: 0.9187 - 9s/epoch - 343ms/step\n",
            "Epoch 10/25\n",
            "25/25 - 11s - loss: 0.2128 - accuracy: 0.9312 - val_loss: 0.1401 - val_accuracy: 0.9625 - 11s/epoch - 421ms/step\n",
            "Epoch 11/25\n",
            "25/25 - 9s - loss: 0.1391 - accuracy: 0.9488 - val_loss: 0.2074 - val_accuracy: 0.9125 - 9s/epoch - 358ms/step\n",
            "Epoch 12/25\n",
            "25/25 - 9s - loss: 0.1479 - accuracy: 0.9388 - val_loss: 0.2391 - val_accuracy: 0.9187 - 9s/epoch - 345ms/step\n",
            "Epoch 13/25\n",
            "25/25 - 8s - loss: 0.1556 - accuracy: 0.9390 - val_loss: 0.1032 - val_accuracy: 0.9875 - 8s/epoch - 329ms/step\n",
            "Epoch 14/25\n",
            "25/25 - 8s - loss: 0.1170 - accuracy: 0.9558 - val_loss: 0.1234 - val_accuracy: 0.9625 - 8s/epoch - 332ms/step\n",
            "Epoch 15/25\n",
            "25/25 - 9s - loss: 0.1061 - accuracy: 0.9625 - val_loss: 0.0829 - val_accuracy: 0.9688 - 9s/epoch - 348ms/step\n",
            "Epoch 16/25\n",
            "25/25 - 10s - loss: 0.1041 - accuracy: 0.9638 - val_loss: 0.1387 - val_accuracy: 0.9625 - 10s/epoch - 396ms/step\n",
            "Epoch 17/25\n",
            "25/25 - 9s - loss: 0.1085 - accuracy: 0.9638 - val_loss: 0.1482 - val_accuracy: 0.9500 - 9s/epoch - 343ms/step\n",
            "Epoch 18/25\n",
            "25/25 - 8s - loss: 0.0744 - accuracy: 0.9800 - val_loss: 0.1517 - val_accuracy: 0.9688 - 8s/epoch - 339ms/step\n",
            "Epoch 19/25\n",
            "25/25 - 8s - loss: 0.0810 - accuracy: 0.9831 - val_loss: 0.1434 - val_accuracy: 0.9688 - 8s/epoch - 331ms/step\n",
            "Epoch 20/25\n",
            "25/25 - 8s - loss: 0.0825 - accuracy: 0.9714 - val_loss: 0.3070 - val_accuracy: 0.9062 - 8s/epoch - 329ms/step\n",
            "Epoch 21/25\n",
            "25/25 - 8s - loss: 0.0816 - accuracy: 0.9701 - val_loss: 0.2259 - val_accuracy: 0.9062 - 8s/epoch - 328ms/step\n",
            "Epoch 22/25\n",
            "25/25 - 8s - loss: 0.0504 - accuracy: 0.9844 - val_loss: 0.1560 - val_accuracy: 0.9812 - 8s/epoch - 329ms/step\n",
            "Epoch 23/25\n",
            "25/25 - 9s - loss: 0.0658 - accuracy: 0.9812 - val_loss: 0.1623 - val_accuracy: 0.9500 - 9s/epoch - 346ms/step\n",
            "Epoch 24/25\n",
            "25/25 - 9s - loss: 0.0684 - accuracy: 0.9812 - val_loss: 0.0451 - val_accuracy: 0.9875 - 9s/epoch - 340ms/step\n",
            "Epoch 25/25\n",
            "25/25 - 9s - loss: 0.0549 - accuracy: 0.9831 - val_loss: 0.0982 - val_accuracy: 0.9750 - 9s/epoch - 342ms/step\n"
          ]
        },
        {
          "data": {
            "text/plain": [
              "<keras.src.callbacks.History at 0x16c7732c690>"
            ]
          },
          "execution_count": 21,
          "metadata": {},
          "output_type": "execute_result"
        }
      ],
      "source": [
        "model.fit(train_gen, steps_per_epoch= 25, epochs=25, validation_data= val_gen, validation_steps= 5, verbose= 2)"
      ]
    },
    {
      "cell_type": "code",
      "execution_count": 23,
      "metadata": {},
      "outputs": [
        {
          "name": "stdout",
          "output_type": "stream",
          "text": [
            "INFO:tensorflow:Assets written to: model/saved_model\\assets\n"
          ]
        },
        {
          "name": "stderr",
          "output_type": "stream",
          "text": [
            "INFO:tensorflow:Assets written to: model/saved_model\\assets\n"
          ]
        }
      ],
      "source": [
        "model.save('model/saved_model')"
      ]
    }
  ],
  "metadata": {
    "colab": {
      "provenance": []
    },
    "kernelspec": {
      "display_name": "Python 3",
      "language": "python",
      "name": "python3"
    },
    "language_info": {
      "codemirror_mode": {
        "name": "ipython",
        "version": 3
      },
      "file_extension": ".py",
      "mimetype": "text/x-python",
      "name": "python",
      "nbconvert_exporter": "python",
      "pygments_lexer": "ipython3",
      "version": "3.11.4"
    }
  },
  "nbformat": 4,
  "nbformat_minor": 0
}
